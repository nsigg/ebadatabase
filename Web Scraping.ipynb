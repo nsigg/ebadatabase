{
 "cells": [
  {
   "cell_type": "code",
   "execution_count": 14,
   "metadata": {},
   "outputs": [],
   "source": [
    "from bs4 import BeautifulSoup\n",
    "import requests as req\n",
    "import re"
   ]
  },
  {
   "cell_type": "code",
   "execution_count": 11,
   "metadata": {},
   "outputs": [],
   "source": [
    "url = \"https://www.eba.europa.eu/risk-analysis-and-data/eu-wide-transparency-exercise#:~:text=The%20European%20Banking%20Authority%20%28EBA%29%20launched%20today%20an,of%20this%20exercise%20at%20the%20beginning%20of%20June.\"\n",
    "resp = req.get(url)\n",
    "soup = BeautifulSoup(resp.text, 'lxml')"
   ]
  },
  {
   "cell_type": "code",
   "execution_count": 66,
   "metadata": {},
   "outputs": [
    {
     "name": "stdout",
     "output_type": "stream",
     "text": [
      "Diese Daten wollen wir\n",
      "https://www.eba.europa.eu/sites/default/documents/files/document_library/Risk%20Analysis%20and%20Data/EU%20Wide%20Transparency%20Exercise/2020/Autumn%202020/Full%20database/tr_cre_2.csv\n",
      "Diese Daten wollen wir\n",
      "https://www.eba.europa.eu/sites/default/documents/files/document_library/Risk%20Analysis%20and%20Data/EU%20Wide%20Transparency%20Exercise/2020/Autumn%202020/Full%20database/tr_mrk_2.csv\n",
      "Diese Daten wollen wir\n",
      "https://tools.eba.europa.eu/interactive-tools/2020/Transparency_2020/tr_sov_2.csv\n",
      "Diese Daten wollen wir\n",
      "https://www.eba.europa.eu/sites/default/documents/files/document_library/Risk%20Analysis%20and%20Data/EU%20Wide%20Transparency%20Exercise/2020/Autumn%202020/Full%20database/tr_oth_2.csv\n",
      "Diese Daten wollen wir\n",
      "https://www.eba.europa.eu/sites/default/documents/files/document_library/Risk%20Analysis%20and%20Data/EU%20Wide%20Transparency%20Exercise/2020/Autumn%202020/Full%20database/SDD_2.xlsx\n",
      "Diese Daten wollen wir\n",
      "https://www.eba.europa.eu/sites/default/documents/files/document_library/Risk%20Analysis%20and%20Data/EU%20Wide%20Transparency%20Exercise/2020/Autumn%202020/Full%20database/TR_Metadata_2.xlsx\n"
     ]
    }
   ],
   "source": [
    "data_l = [\"Credit risk\", \"Market risk\", \"Sovereign debt exposures\", \"Other templates\", \"Data dictionary\", \"Metadata\"]\n",
    "for tag in soup.find_all(\"a\"):\n",
    "        tag_t = tag.text\n",
    "        if tag_t in data_l:\n",
    "            get_data(tag)"
   ]
  },
  {
   "cell_type": "code",
   "execution_count": 67,
   "metadata": {},
   "outputs": [],
   "source": [
    "#Diese Funktion filtert nach den gewünschten Daten und führt die anderen Funtionen aus.\n",
    "def get_data(tag):\n",
    "    href_t = tag.attrs[\"href\"]\n",
    "    \n",
    "    if href_t.__contains__(\"2.csv\") or href_t.__contains__(\"2.xlsx\"):\n",
    "        print(\"Diese Daten wollen wir\")\n",
    "        #print(href_t)\n",
    "        url = write_url(href_t)\n",
    "        f_name = getName(href_t)\n",
    "        download_data(url, f_name)\n",
    "    return href_t\n",
    "\n",
    "#Diese Funktion erstellt aus dem Inhalten des Tags eine URL für den Download\n",
    "def write_url(href):\n",
    "    if href.__contains__(\"https:\"):\n",
    "        url = href\n",
    "    else:\n",
    "        url = \"https://www.eba.europa.eu\"+href\n",
    "    print(url)\n",
    "    return url\n",
    "\n",
    "#Diese Frunktion läd die Daten von den Links herunter und speichert sie ab. \n",
    "def download_data(url, f_name):\n",
    "    request = req.get(url)\n",
    "    with open(f_name, 'wb') as f:\n",
    "        f.write(request.content) \n",
    "\n",
    "#Diese Funktion legt die Namen für die Files fest. \n",
    "def getName(href_t):\n",
    "    if href_t.__contains__(\"tr_cre_2\"):\n",
    "        name = \"tr_cre.csv\"\n",
    "    elif href_t.__contains__(\"tr_mrk_2\"):\n",
    "        name = \"tr_mrk.csv\"\n",
    "    elif href_t.__contains__(\"tr_oth_2\"):\n",
    "        name = \"tr_oth.csv\"\n",
    "    elif href_t.__contains__(\"SDD_2\"):\n",
    "        name = \"sdd.xlsx\"\n",
    "    elif href_t.__contains__(\"TR_Metadata_2\"):\n",
    "        name = \"banks.xlsx\"\n",
    "    elif href_t.__contains__(\"tr_sov_2\"):\n",
    "        name = \"tr_sov.csv\"\n",
    "    else:\n",
    "        name =\"no_name\"\n",
    "    return name"
   ]
  },
  {
   "cell_type": "markdown",
   "metadata": {},
   "source": [
    "#print(soup.prettify())\n",
    "# suchen nach Full database\n",
    "a: Credit risk\n",
    "a: Market risk\n",
    "a: Sovereign debt exposures\n",
    "a: Other templates\n",
    "a: Data dictionary\n",
    "a: Metadata"
   ]
  },
  {
   "cell_type": "markdown",
   "metadata": {},
   "source": [
    "href=\"/sites/default/documents/files/document_library/Risk%20Analysis%20and%20Data/EU%20Wide%20Transparency%20Exercise/2020/Autumn%202020/Full%20database/tr_cre_2.csv\">\n",
    "                        \n",
    " href=\"/sites/default/documents/files/document_library/Risk%20Analysis%20and%20Data/EU%20Wide%20Transparency%20Exercise/2020/Autumn%202020/Full%20database/tr_mrk_2.csv\">\n",
    "                      \n",
    "href=\"https://tools.eba.europa.eu/interactive-tools/2020/Transparency_2020/tr_sov_2.csv\">\n",
    "                       \n",
    "href=\"/sites/default/documents/files/document_library/Risk%20Analysis%20and%20Data/EU%20Wide%20Transparency%20Exercise/2020/Autumn%202020/Full%20database/tr_oth_2.csv\">\n",
    "                       \n",
    "href=\"/sites/default/documents/files/document_library/Risk%20Analysis%20and%20Data/EU%20Wide%20Transparency%20Exercise/2020/Autumn%202020/Full%20database/SDD_2.xlsx\">\n",
    "                        \n",
    "href=\"/sites/default/documents/files/document_library/Risk%20Analysis%20and%20Data/EU%20Wide%20Transparency%20Exercise/2020/Autumn%202020/Full%20database/TR_Metadata_2.xlsx\">\n",
    "                       href=\"/sites/default/documents/files/document_library/Risk%20Analysis%20and%20Data/EU%20Wide%20Transparency%20Exercise/2020/Autumn%202020/Full%20database/CSV_guide_Transparency_2020_2.pdf\">"
   ]
  },
  {
   "cell_type": "code",
   "execution_count": 7,
   "metadata": {},
   "outputs": [],
   "source": [
    "#url_t_2020 = \"https://www.eba.europa.eu/sites/default/documents/files/document_library/Risk%20Analysis%20and%20Data/EU%20Wide%20Transparency%20Exercise/2020/Autumn%202020/Full%20database/tr_cre_2.csv\""
   ]
  },
  {
   "cell_type": "code",
   "execution_count": 8,
   "metadata": {},
   "outputs": [],
   "source": [
    "#url_t_2019 = \"https://www.eba.europa.eu/sites/default/documents/files/document_library/Risk%20Analysis%20and%20Data/EU%20Wide%20Transparency%20Exercise/2019/Autumn%2019/Full%20database/tr_cre_2.csv\""
   ]
  },
  {
   "cell_type": "code",
   "execution_count": 9,
   "metadata": {},
   "outputs": [],
   "source": [
    "#resp = req.get(url_t_2020)\n",
    "#soup = BeautifulSoup(resp.text, 'lxml')"
   ]
  },
  {
   "cell_type": "code",
   "execution_count": 10,
   "metadata": {},
   "outputs": [
    {
     "name": "stderr",
     "output_type": "stream",
     "text": [
      "IOPub data rate exceeded.\n",
      "The Jupyter server will temporarily stop sending output\n",
      "to the client in order to avoid crashing it.\n",
      "To change this limit, set the config variable\n",
      "`--ServerApp.iopub_data_rate_limit`.\n",
      "\n",
      "Current values:\n",
      "ServerApp.iopub_data_rate_limit=1000000.0 (bytes/sec)\n",
      "ServerApp.rate_limit_window=3.0 (secs)\n",
      "\n"
     ]
    }
   ],
   "source": [
    "#print(soup.prettify())"
   ]
  },
  {
   "cell_type": "code",
   "execution_count": null,
   "metadata": {},
   "outputs": [],
   "source": []
  }
 ],
 "metadata": {
  "kernelspec": {
   "display_name": "Python 3",
   "language": "python",
   "name": "python3"
  },
  "language_info": {
   "codemirror_mode": {
    "name": "ipython",
    "version": 3
   },
   "file_extension": ".py",
   "mimetype": "text/x-python",
   "name": "python",
   "nbconvert_exporter": "python",
   "pygments_lexer": "ipython3",
   "version": "3.7.6"
  }
 },
 "nbformat": 4,
 "nbformat_minor": 4
}
