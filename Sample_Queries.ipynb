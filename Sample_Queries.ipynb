{
 "cells": [
  {
   "cell_type": "markdown",
   "metadata": {},
   "source": [
    "# 3 Beispielabfragen"
   ]
  },
  {
   "cell_type": "markdown",
   "metadata": {},
   "source": [
    "## 3.0 Eingabe personalisierter Parameter"
   ]
  },
  {
   "cell_type": "markdown",
   "metadata": {},
   "source": [
    "### 3.0.1 Datenbankparameter"
   ]
  },
  {
   "cell_type": "code",
   "execution_count": null,
   "metadata": {},
   "outputs": [],
   "source": [
    "DATABASE_NAME = 'YOUR_DATABASE_NAME'\n",
    "DATABASE_USER = 'YOUR_DATABASE_USER'\n",
    "DATABASE_PASSWORD = 'YOUR_DATABASE_PASSWORD'"
   ]
  },
  {
   "cell_type": "markdown",
   "metadata": {},
   "source": [
    "### 3.0.2 Parameter für Abfrage 3.2"
   ]
  },
  {
   "cell_type": "markdown",
   "metadata": {},
   "source": [
    "#### 3.0.2.1 Zu betrachtende Länder"
   ]
  },
  {
   "cell_type": "code",
   "execution_count": null,
   "metadata": {},
   "outputs": [],
   "source": [
    "countries = ['DE', 'IT', 'GB', 'FR', 'NL'] #Liste beliebig erweiterbar"
   ]
  },
  {
   "cell_type": "markdown",
   "metadata": {},
   "source": [
    "#### 3.0.2.2 Zu betrachtendes Item"
   ]
  },
  {
   "cell_type": "code",
   "execution_count": null,
   "metadata": {},
   "outputs": [],
   "source": [
    "item_1 = 82 #Gewinn/Verlust"
   ]
  },
  {
   "cell_type": "markdown",
   "metadata": {},
   "source": [
    "### 3.0.3 Parameter für Abfrage 3.3"
   ]
  },
  {
   "cell_type": "markdown",
   "metadata": {},
   "source": [
    "#### Zu betrachtende Bank"
   ]
  },
  {
   "cell_type": "code",
   "execution_count": null,
   "metadata": {},
   "outputs": [],
   "source": [
    "bank = 15 #Landesbank Baden-Württemberg"
   ]
  },
  {
   "cell_type": "markdown",
   "metadata": {},
   "source": [
    "## 3.1 Import relevanter Funktionen und Herstellen der Vebindung zur Datenbank"
   ]
  },
  {
   "cell_type": "code",
   "execution_count": null,
   "metadata": {},
   "outputs": [],
   "source": [
    "import pandas as pd\n",
    "from pandas.plotting import parallel_coordinates\n",
    "from src.core.Connection import getConnection, getRootConnection\n",
    "\n",
    "connection = getConnection(DATABASE_NAME, DATABASE_USER, DATABASE_PASSWORD)\n",
    "cursor = connection.cursor()"
   ]
  },
  {
   "cell_type": "markdown",
   "metadata": {},
   "source": [
    "## 3.2 Gesamtgewinn /-verlust nach Periode nach Land"
   ]
  },
  {
   "cell_type": "markdown",
   "metadata": {},
   "source": [
    "### 3.2.1 Daten aus Datenbank laden"
   ]
  },
  {
   "cell_type": "code",
   "execution_count": null,
   "metadata": {},
   "outputs": [],
   "source": [
    "query = f\"\"\"SELECT DISTINCT\n",
    "                  b.Country_Code as Country_Code,\n",
    "                  o.Period as Period,\n",
    "                  o.Amount as Amount,\n",
    "                  o.GlobalLEI_Code as BankID\n",
    "           FROM others as o, bank b\n",
    "           WHERE o.ItemID = '{item_1}' AND\n",
    "                 o.GlobalLEI_Code = b.GlobalLEI_Code\n",
    "           ORDER BY o.Period\"\"\" \n",
    "\n",
    "data = cursor.execute(query)"
   ]
  },
  {
   "cell_type": "markdown",
   "metadata": {},
   "source": [
    "### 3.2.2 Daten in Dataframe speichern (Period als einzelne als Spalte)"
   ]
  },
  {
   "cell_type": "code",
   "execution_count": null,
   "metadata": {},
   "outputs": [],
   "source": [
    "df = pd.DataFrame(cursor.fetchall())\n",
    "df.columns = cursor.column_names\n",
    "df = df.sort_values(by = ['BankID', 'Period'])\n",
    "df.style.hide_index()"
   ]
  },
  {
   "cell_type": "markdown",
   "metadata": {},
   "source": [
    "### 3.2.3 Dataframe so verändern, dass für jede Periode eine Spalte entsteht"
   ]
  },
  {
   "cell_type": "code",
   "execution_count": null,
   "metadata": {},
   "outputs": [],
   "source": [
    "df_copy = df.copy()\n",
    "\n",
    "df = df.drop_duplicates(subset=['BankID']).copy()\n",
    "df.drop(['Period', 'Amount'], axis=1, inplace=True)\n",
    "    \n",
    "for index, row in df_copy.iterrows():\n",
    "    period = row['Period']\n",
    "    index_of_bank = df[df['BankID']==row['BankID']].index.values\n",
    "    df.loc[index_of_bank, period] = row['Amount']\n",
    "\n",
    "for col in df.columns:\n",
    "    if (col != 'Country_Code'):\n",
    "        df[col]=pd.to_numeric(df[col])\n",
    "        \n",
    "df.style.hide_index()"
   ]
  },
  {
   "cell_type": "markdown",
   "metadata": {},
   "source": [
    "### 3.2.4 Daten nach Ländern gruppieren"
   ]
  },
  {
   "cell_type": "code",
   "execution_count": null,
   "metadata": {
    "scrolled": true
   },
   "outputs": [],
   "source": [
    "df_grouped = df.groupby(df['Country_Code']).mean().reset_index()\n",
    "df_grouped.drop('BankID', axis=1, inplace=True)\n",
    "\n",
    "df_grouped.style.hide_index()"
   ]
  },
  {
   "cell_type": "markdown",
   "metadata": {},
   "source": [
    "### 3.2.5 Daten visualisieren"
   ]
  },
  {
   "cell_type": "code",
   "execution_count": null,
   "metadata": {
    "scrolled": true
   },
   "outputs": [],
   "source": [
    "f = df_grouped[df_grouped['Country_Code'].isin(countries)]\n",
    "\n",
    "parallel_coordinates(f, 'Country_Code')"
   ]
  },
  {
   "cell_type": "markdown",
   "metadata": {},
   "source": [
    "## 3.3 Zinseinkommen für eine einzelne Bank"
   ]
  },
  {
   "cell_type": "markdown",
   "metadata": {},
   "source": [
    "### 3.3.1 Daten aus Datenbank laden"
   ]
  },
  {
   "cell_type": "code",
   "execution_count": null,
   "metadata": {},
   "outputs": [],
   "source": [
    "query = f\"\"\"SELECT DISTINCT\n",
    "                  o.Period as Period,\n",
    "                  o.Amount as Amount,\n",
    "                  o.ItemID as ItemID\n",
    "           FROM others as o\n",
    "           WHERE (o.ItemID = '48' OR\n",
    "                 o.ItemID = '49' OR\n",
    "                 o.ItemID = '50') AND\n",
    "                 o.GlobalLEI_Code = '{bank}'\n",
    "           ORDER BY o.Period, o.ItemID\"\"\" \n",
    "\n",
    "data = cursor.execute(query)"
   ]
  },
  {
   "cell_type": "markdown",
   "metadata": {},
   "source": [
    "### 3.3.2 Daten in Dataframe speichern (Item als einzelne als Spalte)"
   ]
  },
  {
   "cell_type": "code",
   "execution_count": null,
   "metadata": {},
   "outputs": [],
   "source": [
    "df = pd.DataFrame(cursor.fetchall())\n",
    "df.columns = cursor.column_names\n",
    "df.style.hide_index()"
   ]
  },
  {
   "cell_type": "markdown",
   "metadata": {},
   "source": [
    "### 3.3.3 Dataframe so verändern, dass für jedes Item eine Spalte entsteht"
   ]
  },
  {
   "cell_type": "code",
   "execution_count": null,
   "metadata": {},
   "outputs": [],
   "source": [
    "df_copy = df.copy()\n",
    "\n",
    "df = df.drop_duplicates(subset=['Period']).copy()\n",
    "df.drop(['ItemID', 'Amount'], axis=1, inplace=True)\n",
    "    \n",
    "for index, row in df_copy.iterrows():\n",
    "    item = row['ItemID']\n",
    "    index_of_period = df[df['Period']==row['Period']].index.values\n",
    "    df.loc[index_of_period, item] = row['Amount']\n",
    "\n",
    "for col in df.columns:\n",
    "    if (col != 'ItemID'):\n",
    "        df[col]=pd.to_numeric(df[col])\n",
    "        \n",
    "df = df.set_index('Period')\n",
    "df"
   ]
  },
  {
   "cell_type": "markdown",
   "metadata": {},
   "source": [
    "### 3.3.4 Daten visualisieren"
   ]
  },
  {
   "cell_type": "code",
   "execution_count": null,
   "metadata": {},
   "outputs": [],
   "source": [
    "# Label für Legende aus Datenbank holen\n",
    "query = 'SELECT Label FROM itemmeta WHERE GlobalID = 48 OR GlobalID = 49 OR GlobalID = 50'\n",
    "data = cursor.execute(query)\n",
    "labels = pd.DataFrame(cursor.fetchall())\n",
    "labels.columns = cursor.column_names\n",
    "\n",
    "ax = df.plot.bar(y=48, rot=0)\n",
    "ax.legend([labels.loc[0, 'Label']])\n",
    "\n",
    "ax_stacked = df.loc[:, df.columns.difference([48])].plot.bar(stacked=True, rot=0)\n",
    "ax_stacked.legend(labels.loc[1:2, 'Label'].tolist())"
   ]
  }
 ],
 "metadata": {
  "kernelspec": {
   "display_name": "Python 3",
   "language": "python",
   "name": "python3"
  },
  "language_info": {
   "codemirror_mode": {
    "name": "ipython",
    "version": 3
   },
   "file_extension": ".py",
   "mimetype": "text/x-python",
   "name": "python",
   "nbconvert_exporter": "python",
   "pygments_lexer": "ipython3",
   "version": "3.7.6"
  }
 },
 "nbformat": 4,
 "nbformat_minor": 4
}