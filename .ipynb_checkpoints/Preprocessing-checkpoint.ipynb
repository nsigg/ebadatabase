{
 "cells": [
  {
   "cell_type": "code",
   "execution_count": 1,
   "metadata": {},
   "outputs": [],
   "source": [
    "import pandas as pd\n",
    "import src.core.WebScraping as webScraper\n",
    "import datetime\n",
    "import os"
   ]
  },
  {
   "cell_type": "code",
   "execution_count": null,
   "metadata": {},
   "outputs": [],
   "source": [
    "webScraper.start_extraction()"
   ]
  },
  {
   "cell_type": "code",
   "execution_count": null,
   "metadata": {},
   "outputs": [],
   "source": [
    "rawDataPath = 'data/RawData'    \n",
    "currentYear = datetime.datetime.now().year\n",
    "preprocessedDataPath = os.path.dirname('data/' + str(currentYear) + '/')\n",
    "if not os.path.exists(preprocessedDataPath):\n",
    "    os.makedirs(preprocessedDataPath)\n",
    "    \n",
    "for filename in os.listdir(rawDataPath):\n",
    "    f = os.path.join(rawDataPath, filename)\n",
    "    # checking if it is a file\n",
    "    if os.path.isfile(f):\n",
    "        print(filename)\n",
    "        if filename == 'TR_Metadata.xlsx':\n",
    "            df = pd.read_excel(f, encoding='latin-1',error_bad_lines=False, lineterminator='\\n', skiprows=[0])\n",
    "        else:\n",
    "            df = pd.read_excel(f, encoding='latin-1',error_bad_lines=False, lineterminator='\\n')\n",
    "        filenameWithoutExtension = filename.split('.')\n",
    "        csvFilename = preprocessedDataPath + '/' + filenameWithoutExtension[0] + '.csv'\n",
    "        df.to_csv(csvFilename, encoding='utf-8', index=False)"
   ]
  },
  {
   "cell_type": "code",
   "execution_count": 11,
   "metadata": {},
   "outputs": [
    {
     "name": "stdout",
     "output_type": "stream",
     "text": [
      "rawDataPath\n"
     ]
    }
   ],
   "source": [
    "rawDataPath = 'data/RawData'    \n",
    "downloadYear = 2021\n",
    "preprocessedDataPath = os.path.dirname('data/' + str(downloadYear) + '/')\n",
    "\n",
    "if not os.path.exists(rawDataPath):\n",
    "    print(\"rawDataPath\")\n",
    "    os.makedirs(rawDataPath)\n",
    "\n",
    "if not os.path.exists(preprocessedDataPath):\n",
    "    print(\"preprocessedDataPath\")\n",
    "    os.makedirs(preprocessedDataPath)\n",
    "    \n",
    "#webScraper.start_extraction(downloadYear)   \n",
    "\n",
    "\n",
    "for filename in os.listdir(rawDataPath):\n",
    "    f = os.path.join(rawDataPath, filename)\n",
    "    # checking if it is a file\n",
    "    if os.path.isfile(f):\n",
    "        print(filename)\n",
    "        if filename == 'TR_Metadata.xlsx':\n",
    "            df = pd.read_excel(f, encoding='latin-1',error_bad_lines=False, lineterminator='\\n', skiprows=[0])\n",
    "        else:\n",
    "            df = pd.read_excel(f, encoding='latin-1',error_bad_lines=False, lineterminator='\\n')\n",
    "        filenameWithoutExtension = filename.split('.')\n",
    "        csvFilename = preprocessedDataPath + '/' + filenameWithoutExtension[0] + '.csv'\n",
    "        df.to_csv(csvFilename, encoding='utf-8', index=False)"
   ]
  },
  {
   "cell_type": "code",
   "execution_count": null,
   "metadata": {},
   "outputs": [],
   "source": []
  }
 ],
 "metadata": {
  "kernelspec": {
   "display_name": "Python 3 (ipykernel)",
   "language": "python",
   "name": "python3"
  },
  "language_info": {
   "codemirror_mode": {
    "name": "ipython",
    "version": 3
   },
   "file_extension": ".py",
   "mimetype": "text/x-python",
   "name": "python",
   "nbconvert_exporter": "python",
   "pygments_lexer": "ipython3",
   "version": "3.10.4"
  }
 },
 "nbformat": 4,
 "nbformat_minor": 4
}
