{
 "cells": [
  {
   "cell_type": "code",
   "execution_count": 1,
   "metadata": {},
   "outputs": [],
   "source": [
    "import pandas as pd"
   ]
  },
  {
   "cell_type": "code",
   "execution_count": 2,
   "metadata": {},
   "outputs": [],
   "source": [
    "tr_cre2020 = pd.read_csv(\"data/2020/tr_cre.csv\", encoding=\"latin-1\", low_memory=False)\n",
    "tr_cre2021 = pd.read_csv(\"data/2021/tr_cre.csv\", encoding=\"latin-1\", low_memory=False)\n",
    "tr_mrk2020 = pd.read_csv(\"data/2020/tr_mrk.csv\", encoding=\"latin-1\", low_memory=False)\n",
    "tr_mrk2021 = pd.read_csv(\"data/2021/tr_mrk.csv\", encoding=\"latin-1\", low_memory=False)"
   ]
  },
  {
   "cell_type": "code",
   "execution_count": 3,
   "metadata": {},
   "outputs": [
    {
     "data": {
      "text/plain": [
       "<bound method DataFrame.info of                     LEI_Code NSA  Period     Item  \\\n",
       "0       0W2PZJM8XOY22M4GG883  DE  201909  2020502   \n",
       "1       0W2PZJM8XOY22M4GG883  DE  201909  2020502   \n",
       "2       0W2PZJM8XOY22M4GG883  DE  201909  2020502   \n",
       "3       0W2PZJM8XOY22M4GG883  DE  201909  2020502   \n",
       "4       0W2PZJM8XOY22M4GG883  DE  201909  2020502   \n",
       "...                      ...  ..     ...      ...   \n",
       "342922  XXXXXXXXXXXXXXXXXXXX  OT  201912  2020625   \n",
       "342923  XXXXXXXXXXXXXXXXXXXX  OT  201912  2020625   \n",
       "342924  XXXXXXXXXXXXXXXXXXXX  OT  201912  2020625   \n",
       "342925  XXXXXXXXXXXXXXXXXXXX  OT  201912  2020626   \n",
       "342926  XXXXXXXXXXXXXXXXXXXX  OT  201912  2020627   \n",
       "\n",
       "                                                    Label  Portfolio  Country  \\\n",
       "0       Original Exposure - by exposure class (SA_and_...          2        0   \n",
       "1       Original Exposure - by exposure class (SA_and_...          2        0   \n",
       "2       Original Exposure - by exposure class (SA_and_...          2        0   \n",
       "3       Original Exposure - by exposure class (SA_and_...          2        0   \n",
       "4       Original Exposure - by exposure class (SA_and_...          2        0   \n",
       "...                                                   ...        ...      ...   \n",
       "342922  Collaterals and financial guarantees received ...          0        0   \n",
       "342923  Collaterals and financial guarantees received ...          0        0   \n",
       "342924  Collaterals and financial guarantees received ...          0        0   \n",
       "342925  Collaterals and financial guarantees received ...          0        0   \n",
       "342926  Collaterals and financial guarantees received ...          0        0   \n",
       "\n",
       "        Country_rank  Exposure  Status  Perf_Status  NACE_codes        Amount  \\\n",
       "0                  0       103       0            0           0    367.396430   \n",
       "1                  0       203       0            0           0  24617.087528   \n",
       "2                  0       303       0            0           0  32086.271021   \n",
       "3                  0       404       0            0           0      0.000000   \n",
       "4                  0       606       0            0           0    543.739929   \n",
       "...              ...       ...     ...          ...         ...           ...   \n",
       "342922             0       202       0            2           0      0.732751   \n",
       "342923             0       301       0            2           0   1195.014585   \n",
       "342924             0       401       0            2           0   1699.453336   \n",
       "342925             0         0       0            2           0      7.070604   \n",
       "342926             0       301       0            2           0    949.671735   \n",
       "\n",
       "       footnote  \n",
       "0           NaN  \n",
       "1           NaN  \n",
       "2           NaN  \n",
       "3           NaN  \n",
       "4           NaN  \n",
       "...         ...  \n",
       "342922      NaN  \n",
       "342923      NaN  \n",
       "342924      NaN  \n",
       "342925      NaN  \n",
       "342926      NaN  \n",
       "\n",
       "[342927 rows x 14 columns]>"
      ]
     },
     "execution_count": 3,
     "metadata": {},
     "output_type": "execute_result"
    }
   ],
   "source": [
    "tr_cre2020.info"
   ]
  },
  {
   "cell_type": "code",
   "execution_count": 4,
   "metadata": {},
   "outputs": [
    {
     "data": {
      "text/plain": [
       "<bound method DataFrame.info of                     LEI_Code NSA  Period     Item  \\\n",
       "0       0W2PZJM8XOY22M4GG883  DE  202003  2020502   \n",
       "1       0W2PZJM8XOY22M4GG883  DE  202003  2020502   \n",
       "2       0W2PZJM8XOY22M4GG883  DE  202003  2020502   \n",
       "3       0W2PZJM8XOY22M4GG883  DE  202003  2020502   \n",
       "4       0W2PZJM8XOY22M4GG883  DE  202003  2020502   \n",
       "...                      ...  ..     ...      ...   \n",
       "396227  XXXXXXXXXXXXXXXXXXXX  OT  202006  2020625   \n",
       "396228  XXXXXXXXXXXXXXXXXXXX  OT  202006  2020625   \n",
       "396229  XXXXXXXXXXXXXXXXXXXX  OT  202006  2020625   \n",
       "396230  XXXXXXXXXXXXXXXXXXXX  OT  202006  2020626   \n",
       "396231  XXXXXXXXXXXXXXXXXXXX  OT  202006  2020628   \n",
       "\n",
       "                                                    Label  Portfolio  Country  \\\n",
       "0       Original Exposure - by exposure class (SA_and_...          2        0   \n",
       "1       Original Exposure - by exposure class (SA_and_...          2        0   \n",
       "2       Original Exposure - by exposure class (SA_and_...          2        0   \n",
       "3       Original Exposure - by exposure class (SA_and_...          2        0   \n",
       "4       Original Exposure - by exposure class (SA_and_...          2        0   \n",
       "...                                                   ...        ...      ...   \n",
       "396227  Collaterals and financial guarantees received ...          0        0   \n",
       "396228  Collaterals and financial guarantees received ...          0        0   \n",
       "396229  Collaterals and financial guarantees received ...          0        0   \n",
       "396230  Collaterals and financial guarantees received ...          0        0   \n",
       "396231  Collaterals and financial guarantees received ...          0        0   \n",
       "\n",
       "        Country_rank  Exposure  Status  Perf_Status  NACE_codes        Amount  \\\n",
       "0                  0       103       0            0           0    437.670504   \n",
       "1                  0       203       0            0           0  27316.201675   \n",
       "2                  0       303       0            0           0  34857.952848   \n",
       "3                  0       404       0            0           0      0.000000   \n",
       "4                  0       606       0            0           0    435.325780   \n",
       "...              ...       ...     ...          ...         ...           ...   \n",
       "396227             0       401       0            2           0    124.660811   \n",
       "396228             0       431       0            2           0    106.105027   \n",
       "396229             0       432       0            2           0      0.050644   \n",
       "396230             0         0       0            2           0      0.001232   \n",
       "396231             0         0       0            2           0      0.000000   \n",
       "\n",
       "       footnote  \n",
       "0           NaN  \n",
       "1           NaN  \n",
       "2           NaN  \n",
       "3           NaN  \n",
       "4           NaN  \n",
       "...         ...  \n",
       "396227      NaN  \n",
       "396228      NaN  \n",
       "396229      NaN  \n",
       "396230      NaN  \n",
       "396231      NaN  \n",
       "\n",
       "[396232 rows x 14 columns]>"
      ]
     },
     "execution_count": 4,
     "metadata": {},
     "output_type": "execute_result"
    }
   ],
   "source": [
    "tr_cre2021.info"
   ]
  },
  {
   "cell_type": "code",
   "execution_count": 5,
   "metadata": {},
   "outputs": [
    {
     "data": {
      "text/plain": [
       "LEI_Code         object\n",
       "NSA              object\n",
       "Period            int64\n",
       "Item              int64\n",
       "Label            object\n",
       "Portfolio         int64\n",
       "Country           int64\n",
       "Country_rank      int64\n",
       "Exposure          int64\n",
       "Status            int64\n",
       "Perf_Status       int64\n",
       "NACE_codes        int64\n",
       "Amount          float64\n",
       "footnote         object\n",
       "dtype: object"
      ]
     },
     "execution_count": 5,
     "metadata": {},
     "output_type": "execute_result"
    }
   ],
   "source": [
    "tr_cre2020.dtypes"
   ]
  },
  {
   "cell_type": "code",
   "execution_count": 6,
   "metadata": {},
   "outputs": [
    {
     "data": {
      "text/plain": [
       "LEI_Code         object\n",
       "NSA              object\n",
       "Period            int64\n",
       "Item              int64\n",
       "Label            object\n",
       "Portfolio         int64\n",
       "Country           int64\n",
       "Country_rank      int64\n",
       "Exposure          int64\n",
       "Status            int64\n",
       "Perf_Status       int64\n",
       "NACE_codes        int64\n",
       "Amount          float64\n",
       "footnote         object\n",
       "dtype: object"
      ]
     },
     "execution_count": 6,
     "metadata": {},
     "output_type": "execute_result"
    }
   ],
   "source": [
    "tr_cre2021.dtypes"
   ]
  },
  {
   "cell_type": "code",
   "execution_count": 7,
   "metadata": {},
   "outputs": [
    {
     "data": {
      "text/plain": [
       "<bound method DataFrame.info of                    LEI_Code NSA  Period     Item  \\\n",
       "0      0W2PZJM8XOY22M4GG883  DE  201909  2020401   \n",
       "1      0W2PZJM8XOY22M4GG883  DE  201909  2020401   \n",
       "2      0W2PZJM8XOY22M4GG883  DE  201909  2020402   \n",
       "3      0W2PZJM8XOY22M4GG883  DE  201909  2020402   \n",
       "4      0W2PZJM8XOY22M4GG883  DE  201909  2020402   \n",
       "...                     ...  ..     ...      ...   \n",
       "12847  XXXXXXXXXXXXXXXXXXXX  OT  201912  2020451   \n",
       "12848  XXXXXXXXXXXXXXXXXXXX  OT  201912  2020461   \n",
       "12849  XXXXXXXXXXXXXXXXXXXX  OT  201912  2020471   \n",
       "12850  XXXXXXXXXXXXXXXXXXXX  OT  201912  2020481   \n",
       "12851  XXXXXXXXXXXXXXXXXXXX  OT  201912  2020491   \n",
       "\n",
       "                                                   Label  Portfolio  \\\n",
       "0                             TOTAL RISK EXPOSURE AMOUNT          1   \n",
       "1                             TOTAL RISK EXPOSURE AMOUNT          5   \n",
       "2                TOTAL RISK EXPOSURE AMOUNT - by Product          1   \n",
       "3                TOTAL RISK EXPOSURE AMOUNT - by Product          1   \n",
       "4                TOTAL RISK EXPOSURE AMOUNT - by Product          1   \n",
       "...                                                  ...        ...   \n",
       "12847  INCREMENTAL DEFAULT AND MIGRATION RISK CAPITAL...          5   \n",
       "12848  INCREMENTAL DEFAULT AND MIGRATION RISK CAPITAL...          5   \n",
       "12849     ALL PRICE RISKS CAPITAL CHARGE FOR CTP - FLOOR          5   \n",
       "12850  ALL PRICE RISKS CAPITAL CHARGE FOR CTP - 12 WE...          5   \n",
       "12851  ALL PRICE RISKS CAPITAL CHARGE FOR CTP - LAST ...          5   \n",
       "\n",
       "       MKT_Modprod  Mkt_risk       Amount Footnote  \n",
       "0                0         0  3770.025697      NaN  \n",
       "1                0         0  4999.353671      NaN  \n",
       "2                1         0  2980.786295      NaN  \n",
       "3                2         0   408.666308      NaN  \n",
       "4                3         0   380.573095      NaN  \n",
       "...            ...       ...          ...      ...  \n",
       "12847            0         0  2472.515853      NaN  \n",
       "12848            0         0  2312.171218      NaN  \n",
       "12849            0         0   129.135594      NaN  \n",
       "12850            0         0   125.529527      NaN  \n",
       "12851            0         0   146.321806      NaN  \n",
       "\n",
       "[12852 rows x 10 columns]>"
      ]
     },
     "execution_count": 7,
     "metadata": {},
     "output_type": "execute_result"
    }
   ],
   "source": [
    "tr_mrk2020.info"
   ]
  },
  {
   "cell_type": "code",
   "execution_count": 8,
   "metadata": {},
   "outputs": [
    {
     "data": {
      "text/plain": [
       "<bound method DataFrame.info of                    LEI_Code NSA  Period     Item  \\\n",
       "0      0W2PZJM8XOY22M4GG883  DE  202003  2020401   \n",
       "1      0W2PZJM8XOY22M4GG883  DE  202003  2020401   \n",
       "2      0W2PZJM8XOY22M4GG883  DE  202003  2020402   \n",
       "3      0W2PZJM8XOY22M4GG883  DE  202003  2020402   \n",
       "4      0W2PZJM8XOY22M4GG883  DE  202003  2020402   \n",
       "...                     ...  ..     ...      ...   \n",
       "13663  XXXXXXXXXXXXXXXXXXXX  OT  202006  2020451   \n",
       "13664  XXXXXXXXXXXXXXXXXXXX  OT  202006  2020461   \n",
       "13665  XXXXXXXXXXXXXXXXXXXX  OT  202006  2020471   \n",
       "13666  XXXXXXXXXXXXXXXXXXXX  OT  202006  2020481   \n",
       "13667  XXXXXXXXXXXXXXXXXXXX  OT  202006  2020491   \n",
       "\n",
       "                                                   Label  Portfolio  \\\n",
       "0                             TOTAL RISK EXPOSURE AMOUNT          1   \n",
       "1                             TOTAL RISK EXPOSURE AMOUNT          5   \n",
       "2                TOTAL RISK EXPOSURE AMOUNT - by Product          1   \n",
       "3                TOTAL RISK EXPOSURE AMOUNT - by Product          1   \n",
       "4                TOTAL RISK EXPOSURE AMOUNT - by Product          1   \n",
       "...                                                  ...        ...   \n",
       "13663  INCREMENTAL DEFAULT AND MIGRATION RISK CAPITAL...          5   \n",
       "13664  INCREMENTAL DEFAULT AND MIGRATION RISK CAPITAL...          5   \n",
       "13665     ALL PRICE RISKS CAPITAL CHARGE FOR CTP - FLOOR          5   \n",
       "13666  ALL PRICE RISKS CAPITAL CHARGE FOR CTP - 12 WE...          5   \n",
       "13667  ALL PRICE RISKS CAPITAL CHARGE FOR CTP - LAST ...          5   \n",
       "\n",
       "       MKT_Modprod  Mkt_risk       Amount Footnote  \n",
       "0                0         0  2869.074238      NaN  \n",
       "1                0         0  5863.580650      NaN  \n",
       "2                1         0  1634.599694      NaN  \n",
       "3                2         0   679.040496      NaN  \n",
       "4                3         0   555.434048      NaN  \n",
       "...            ...       ...          ...      ...  \n",
       "13663            0         0     0.000000      NaN  \n",
       "13664            0         0     0.000000      NaN  \n",
       "13665            0         0     0.000000      NaN  \n",
       "13666            0         0     0.000000      NaN  \n",
       "13667            0         0     0.000000      NaN  \n",
       "\n",
       "[13668 rows x 10 columns]>"
      ]
     },
     "execution_count": 8,
     "metadata": {},
     "output_type": "execute_result"
    }
   ],
   "source": [
    "tr_mrk2021.info"
   ]
  },
  {
   "cell_type": "code",
   "execution_count": 9,
   "metadata": {},
   "outputs": [
    {
     "data": {
      "text/plain": [
       "LEI_Code        object\n",
       "NSA             object\n",
       "Period           int64\n",
       "Item             int64\n",
       "Label           object\n",
       "Portfolio        int64\n",
       "MKT_Modprod      int64\n",
       "Mkt_risk         int64\n",
       "Amount         float64\n",
       "Footnote        object\n",
       "dtype: object"
      ]
     },
     "execution_count": 9,
     "metadata": {},
     "output_type": "execute_result"
    }
   ],
   "source": [
    "tr_mrk2020.dtypes"
   ]
  },
  {
   "cell_type": "code",
   "execution_count": 10,
   "metadata": {},
   "outputs": [
    {
     "data": {
      "text/plain": [
       "LEI_Code        object\n",
       "NSA             object\n",
       "Period           int64\n",
       "Item             int64\n",
       "Label           object\n",
       "Portfolio        int64\n",
       "MKT_Modprod      int64\n",
       "Mkt_risk         int64\n",
       "Amount         float64\n",
       "Footnote        object\n",
       "dtype: object"
      ]
     },
     "execution_count": 10,
     "metadata": {},
     "output_type": "execute_result"
    }
   ],
   "source": [
    "tr_mrk2021.dtypes\n"
   ]
  }
 ],
 "metadata": {
  "kernelspec": {
   "display_name": "Python 3",
   "language": "python",
   "name": "python3"
  },
  "language_info": {
   "codemirror_mode": {
    "name": "ipython",
    "version": 3
   },
   "file_extension": ".py",
   "mimetype": "text/x-python",
   "name": "python",
   "nbconvert_exporter": "python",
   "pygments_lexer": "ipython3",
   "version": "3.8.3"
  }
 },
 "nbformat": 4,
 "nbformat_minor": 4
}
